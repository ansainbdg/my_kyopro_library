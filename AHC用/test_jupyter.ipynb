{
 "cells": [
  {
   "cell_type": "code",
   "execution_count": null,
   "id": "273c2e44-74c3-47ec-aaf5-dade60957f60",
   "metadata": {},
   "outputs": [],
   "source": [
    "from execute_case import main,execute_case_main,run_pahcer_run,run_pahcer_init"
   ]
  },
  {
   "cell_type": "code",
   "execution_count": null,
   "id": "a0084e7a-34eb-4c2b-9d73-120b270c4a4b",
   "metadata": {},
   "outputs": [],
   "source": [
    "execute_case_main(0,\"code1.py\",interactive=False,atcoder=False)"
   ]
  },
  {
   "cell_type": "code",
   "execution_count": null,
   "id": "f8709595-43f7-47d9-a8cb-06f8fd457c97",
   "metadata": {},
   "outputs": [],
   "source": [
    "main(10,\"code1.py\",interactive=False)"
   ]
  }
 ],
 "metadata": {
  "kernelspec": {
   "display_name": "Python 3 (ipykernel)",
   "language": "python",
   "name": "python3"
  },
  "language_info": {
   "codemirror_mode": {
    "name": "ipython",
    "version": 3
   },
   "file_extension": ".py",
   "mimetype": "text/x-python",
   "name": "python",
   "nbconvert_exporter": "python",
   "pygments_lexer": "ipython3",
   "version": "3.12.4"
  }
 },
 "nbformat": 4,
 "nbformat_minor": 5
}
