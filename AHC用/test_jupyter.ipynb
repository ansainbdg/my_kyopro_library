{
 "cells": [
  {
   "cell_type": "code",
   "execution_count": null,
   "id": "f9c479d0-9ca0-4d02-b900-28b53589784d",
   "metadata": {},
   "outputs": [],
   "source": [
    "from execute_case import main,execute_case,execute_case_interactive,execute_case_atcoder,execute_case_atcoder_interactive"
   ]
  },
  {
   "cell_type": "code",
   "execution_count": null,
   "id": "f7bb3432-4ee7-486e-85e5-7f6f5c3f669e",
   "metadata": {
    "tags": []
   },
   "outputs": [],
   "source": [
    "main(2000,'code1.py',interactive=False,to_csv=False,use_koteiseed=False,multi=False,print_score=True,TL=None)"
   ]
  },
  {
   "cell_type": "code",
   "execution_count": null,
   "id": "4d00cbc0-bc37-4170-9acf-cdfdb856d659",
   "metadata": {},
   "outputs": [],
   "source": [
    "execute_case(0,'code1.py')"
   ]
  },
  {
   "cell_type": "code",
   "execution_count": null,
   "id": "c4479985-e490-4dd3-bbbd-521e0c287c31",
   "metadata": {},
   "outputs": [],
   "source": []
  }
 ],
 "metadata": {
  "kernelspec": {
   "display_name": "Python 3 (ipykernel)",
   "language": "python",
   "name": "python3"
  },
  "language_info": {
   "codemirror_mode": {
    "name": "ipython",
    "version": 3
   },
   "file_extension": ".py",
   "mimetype": "text/x-python",
   "name": "python",
   "nbconvert_exporter": "python",
   "pygments_lexer": "ipython3",
   "version": "3.11.5"
  }
 },
 "nbformat": 4,
 "nbformat_minor": 5
}
