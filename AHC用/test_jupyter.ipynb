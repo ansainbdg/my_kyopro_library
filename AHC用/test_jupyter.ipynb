{
 "cells": [
  {
   "cell_type": "code",
   "execution_count": 3,
   "id": "ab45cec7-3f1e-41b2-b14b-8df50042ae2f",
   "metadata": {},
   "outputs": [],
   "source": [
    "import subprocess\n",
    "import pipes\n",
    "import multiprocessing\n",
    "import os\n",
    "\n",
    "from execute_case import execute_case,execute_case_interactive\n",
    "\n",
    "def main(CASE=100,interactive=False):\n",
    "    scores = []\n",
    "    count = 0\n",
    "    if interactive:execute = execute_case_interactive\n",
    "    else:execute = execute_case\n",
    "    if not os.path.isdir(\"in\"):os.mkdir(\"in\") \n",
    "    if not os.path.isdir(\"out\"):os.mkdir(\"out\")\n",
    "    if not os.path.isdir(\"pipeline\"):os.mkdir(\"pipeline\")\n",
    "    if len([d for d in os.listdir(\"in\") if len(d)==8]) < CASE:\n",
    "        with open(\"seeds.txt\", mode='w') as f:\n",
    "            for i in range(CASE):f.write(str(i)+\"\\n\")\n",
    "        subprocess.run('cargo run --release --bin gen seeds.txt',stdout=subprocess.PIPE,stderr=subprocess.PIPE,shell=True)\n",
    "    for i in range(CASE):\n",
    "        seed,score = execute(i)\n",
    "        print(count)\n",
    "        try:\n",
    "            scores.append((int(score.split()[-1]), f'{seed:04}'))\n",
    "        except ValueError:\n",
    "            print(seed, \"ValueError\", flush=True)\n",
    "            print(score, flush=True)\n",
    "            return\n",
    "        except IndexError:\n",
    "            print(seed, \"IndexError\", flush=True)\n",
    "            print(f\"error: {score}\", flush=True)\n",
    "            return\n",
    "        count += 1\n",
    "    print()\n",
    "    scores.sort()\n",
    "    total = sum([s[0] for s in scores])\n",
    "    ave = total / CASE\n",
    "    print(f'total: {total}')\n",
    "    print(f'max: {scores[-1]}')\n",
    "    print(f'ave: {ave}')\n",
    "    print(f'min: {scores[0]}')"
   ]
  },
  {
   "cell_type": "code",
   "execution_count": 4,
   "id": "8dca1dc1-2b97-4443-9c18-2a9451707c1d",
   "metadata": {},
   "outputs": [
    {
     "name": "stdout",
     "output_type": "stream",
     "text": [
      "0123456789012345678901234567890123456789012345678901234567890123456789012345678901234567890123456789\n",
      "total: 158647318\n",
      "max: (1784976, '0069')\n",
      "ave: 1586473.18\n",
      "min: (1493853, '0075')\n"
     ]
    }
   ],
   "source": [
    "main()"
   ]
  },
  {
   "cell_type": "code",
   "execution_count": null,
   "id": "5ef11c52-3432-4eaa-8d2d-132db85185a2",
   "metadata": {},
   "outputs": [],
   "source": []
  }
 ],
 "metadata": {
  "kernelspec": {
   "display_name": "Python 3",
   "language": "python",
   "name": "python3"
  },
  "language_info": {
   "codemirror_mode": {
    "name": "ipython",
    "version": 3
   },
   "file_extension": ".py",
   "mimetype": "text/x-python",
   "name": "python",
   "nbconvert_exporter": "python",
   "pygments_lexer": "ipython3",
   "version": "3.8.8"
  }
 },
 "nbformat": 4,
 "nbformat_minor": 5
}
