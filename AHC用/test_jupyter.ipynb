{
 "cells": [
  {
   "cell_type": "code",
   "execution_count": 1,
   "id": "5ef11c52-3432-4eaa-8d2d-132db85185a2",
   "metadata": {},
   "outputs": [],
   "source": [
    "from execute_case import main,execute_case,execute_case_interactive"
   ]
  },
  {
   "cell_type": "code",
   "execution_count": null,
   "id": "71719ba1-b8a9-4cce-ab98-36bf0ebe9fa7",
   "metadata": {},
   "outputs": [],
   "source": [
    "main(100,'code1.py',False,False,True)"
   ]
  },
  {
   "cell_type": "code",
   "execution_count": null,
   "id": "40550131",
   "metadata": {},
   "outputs": [],
   "source": [
    "execute_case(0,'code1.py')"
   ]
  }
 ],
 "metadata": {
  "kernelspec": {
   "display_name": "Python 3 (ipykernel)",
   "language": "python",
   "name": "python3"
  },
  "language_info": {
   "codemirror_mode": {
    "name": "ipython",
    "version": 3
   },
   "file_extension": ".py",
   "mimetype": "text/x-python",
   "name": "python",
   "nbconvert_exporter": "python",
   "pygments_lexer": "ipython3",
   "version": "3.11.5"
  }
 },
 "nbformat": 4,
 "nbformat_minor": 5
}
