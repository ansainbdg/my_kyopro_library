{
 "cells": [
  {
   "cell_type": "code",
   "execution_count": null,
   "id": "f9c479d0-9ca0-4d02-b900-28b53589784d",
   "metadata": {},
   "outputs": [],
   "source": [
    "from execute_case import main,execute_case_main,run_pahcer_run,run_pahcer_init"
   ]
  },
  {
   "cell_type": "code",
   "execution_count": null,
   "id": "339a47c1",
   "metadata": {},
   "outputs": [],
   "source": [
    "execute_case_main(0,\"code1.py\")"
   ]
  },
  {
   "cell_type": "code",
   "execution_count": null,
   "id": "9448cc11",
   "metadata": {},
   "outputs": [],
   "source": [
    "main(10,\"code1.py\")"
   ]
  },
  {
   "cell_type": "markdown",
   "id": "e504b1fd",
   "metadata": {},
   "source": []
  }
 ],
 "metadata": {
  "kernelspec": {
   "display_name": "base",
   "language": "python",
   "name": "python3"
  },
  "language_info": {
   "codemirror_mode": {
    "name": "ipython",
    "version": 3
   },
   "file_extension": ".py",
   "mimetype": "text/x-python",
   "name": "python",
   "nbconvert_exporter": "python",
   "pygments_lexer": "ipython3",
   "version": "3.12.4"
  }
 },
 "nbformat": 4,
 "nbformat_minor": 5
}
